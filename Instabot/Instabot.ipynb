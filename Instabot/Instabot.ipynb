{
 "cells": [
  {
   "cell_type": "code",
   "execution_count": 58,
   "metadata": {},
   "outputs": [],
   "source": [
    "from selenium import webdriver\n",
    "from selenium.webdriver.common.by import By\n",
    "from selenium.webdriver.common.keys import Keys\n",
    "from webdriver_manager.firefox import GeckoDriverManager\n",
    "from selenium import webdriver\n",
    "from selenium.webdriver.common.by import By\n",
    "from selenium.webdriver.support.ui import WebDriverWait\n",
    "from selenium.webdriver.support import expected_conditions as EC\n",
    "import time\n",
    "from bs4 import BeautifulSoup\n",
    "from selenium.webdriver.common.keys import Keys\n",
    "import pandas as pd\n",
    "import numpy as np\n",
    "import matplotlib.pyplot as plt\n"
   ]
  },
  {
   "cell_type": "code",
   "execution_count": null,
   "metadata": {},
   "outputs": [],
   "source": [
    "driver = webdriver.Firefox(executable_path=GeckoDriverManager().install())\n",
    "driver.get('https://instagram.com/')"
   ]
  },
  {
   "cell_type": "code",
   "execution_count": null,
   "metadata": {},
   "outputs": [],
   "source": [
    "#Insta Log In\n",
    "\n",
    "user = driver.find_element_by_css_selector(\"input[name='username']\")\n",
    "user.send_keys(\"user\")\n",
    "\n",
    "password = driver.find_element_by_css_selector(\"input[name='password']\")\n",
    "password.send_keys(\"pass\")\n",
    "\n",
    "\n",
    "login_button = driver.find_element_by_xpath(\"//button[@type='submit']\")\n",
    "login_button.click()"
   ]
  },
  {
   "cell_type": "code",
   "execution_count": null,
   "metadata": {},
   "outputs": [],
   "source": [
    "#food search\n",
    "\n",
    "search = driver.find_element_by_xpath(\"//input[@placeholder='Search']\")\n",
    "search.clear()\n",
    "search.send_keys(\"food\")\n",
    "driver.implicitly_wait(5)\n"
   ]
  },
  {
   "cell_type": "code",
   "execution_count": null,
   "metadata": {},
   "outputs": [],
   "source": [
    "foods =  driver.find_elements_by_xpath(\"//div[@class='_9_68 _9_6b _9_6i _9_6j _9_6t']\")\n",
    "print(foods)"
   ]
  },
  {
   "cell_type": "code",
   "execution_count": null,
   "metadata": {},
   "outputs": [],
   "source": [
    "food_accounts=[]\n",
    "for i in foods[:11]:\n",
    "    name=i.get_attribute('innerHTML')\n",
    "    if name[0]!='#':\n",
    "        food_accounts.append(name)\n",
    "for account in food_accounts:\n",
    "    print(account)"
   ]
  },
  {
   "cell_type": "code",
   "execution_count": null,
   "metadata": {},
   "outputs": [],
   "source": [
    "d={}\n",
    "base_url='https:www.instagram.com/'\n",
    "\n",
    "def count_followers(name):\n",
    "    driver.get(base_url+name)\n",
    "\n",
    "    data = driver.find_element_by_xpath(\"//li[@class='_9_da'][2]/a/div/span\")\n",
    "    \n",
    "    count = int(data.get_attribute('title').replace(',',''))\n",
    "    \n",
    "    d[name]=count\n",
    "\n",
    "for name in food_accounts:\n",
    "    count_followers(name)\n",
    "    "
   ]
  },
  {
   "cell_type": "code",
   "execution_count": null,
   "metadata": {},
   "outputs": [],
   "source": [
    "top_names = dict(sorted(d.items(), key=lambda item: item[1],reverse=True)[:5])"
   ]
  },
  {
   "cell_type": "code",
   "execution_count": null,
   "metadata": {},
   "outputs": [],
   "source": [
    "for ele in top_names:\n",
    "    print(ele,':',top_names[ele])"
   ]
  },
  {
   "cell_type": "code",
   "execution_count": null,
   "metadata": {},
   "outputs": [],
   "source": [
    "top_posts={}\n",
    "base_url='https:www.instagram.com/'\n",
    "\n",
    "def count_posts(name):\n",
    "    \n",
    "    count=0\n",
    "    driver.get(base_url+name)\n",
    "    driver.implicitly_wait(15)\n",
    "    data = driver.find_element_by_xpath(\"//li[@class='_9_da'][2]/a/div/span\")\n",
    "\n",
    "    post = WebDriverWait(driver,15).until(EC.presence_of_element_located((By.XPATH,\"//div[@class='_9-4k _9zo3 _9_md']\")))\n",
    "    post.click()\n",
    "    driver.implicitly_wait(15) \n",
    "    \n",
    "    while True:\n",
    "        \n",
    "\n",
    "        time_tag=driver.find_element_by_xpath(\"//time[@class='_9_wy _a41t']\")\n",
    "\n",
    "        time =time_tag.get_attribute('innerHTML')\n",
    "        if time[-1] in ['h','s','m']:\n",
    "            count+=1\n",
    "        elif time[-1]=='d':\n",
    "            d=int(time[:-1])\n",
    "            if d<=3:\n",
    "                count+=1\n",
    "        else:\n",
    "            driver.back()\n",
    "            break\n",
    "            \n",
    "        next_button=driver.find_element_by_xpath(\"//div[@class = ' _a1bt _a2jd']/button\")\n",
    "        next_button.click()\n",
    "        driver.implicitly_wait(15) \n",
    "        \n",
    "    top_posts[name]=count\n",
    "    \n",
    "\n",
    "for name in top_names:\n",
    "    count_posts(name)\n",
    "\n"
   ]
  },
  {
   "cell_type": "code",
   "execution_count": null,
   "metadata": {},
   "outputs": [],
   "source": [
    "print(top_posts)"
   ]
  },
  {
   "cell_type": "code",
   "execution_count": 121,
   "metadata": {},
   "outputs": [],
   "source": [
    "#2.1\n",
    "#collect posts and hashtags\n",
    "\n",
    "user_posts={}\n",
    "user_hashtags={}\n",
    "user_likes={}\n",
    "base_url='https:www.instagram.com/'\n",
    "\n",
    "def store_posts(name):\n",
    "    \n",
    "    driver.get(base_url+name)\n",
    "    driver.implicitly_wait(15)\n",
    "    data = driver.find_element_by_xpath(\"//li[@class='_9_da'][2]/a/div/span\")\n",
    "\n",
    "    post = WebDriverWait(driver,15).until(EC.presence_of_element_located((By.XPATH,\"//div[@class='_9-4k _9zo3 _9_md']\")))\n",
    "    post.click()\n",
    "    driver.implicitly_wait(15) \n",
    "    \n",
    "    count=0\n",
    "    hashtags=[]\n",
    "    posts=[]\n",
    "    total_likes=0\n",
    "    while True:\n",
    "        post_tag=driver.find_element_by_xpath(\"//div[@class='_a6o-']/span\")\n",
    "        post=post_tag.get_attribute('textContent')\n",
    "        posts.append(post)\n",
    "        \n",
    "        hashtags_tag=driver.find_elements_by_xpath(\"//div[@class='_a6o-']/span/a\")\n",
    "        for hash_data in hashtags_tag:\n",
    "            hashtags.append(hash_data.get_attribute('innerHTML'))           \n",
    "        \n",
    "        \n",
    "        try:\n",
    "            like_tag = driver.find_element_by_xpath(\"//section[@class='_9-v2 _a040']/div/div/div/a/div\")\n",
    "        \n",
    "            likes = BeautifulSoup(like_tag.get_attribute('outerHTML'),'html.parser').text\n",
    "            like_tag = driver.find_element_by_xpath(\"//section[@class='_9-v2 _a040']/div/div/div/a/div\")\n",
    "        \n",
    "            likes = BeautifulSoup(like_tag.get_attribute('outerHTML'),'html.parser').text\n",
    "            no_likes=int(likes.split()[0].replace(\",\",\"\"))\n",
    "            total_likes+=int(no_likes)\n",
    "\n",
    "        except:\n",
    "            like_button=driver.find_element_by_xpath(\"//div[@class = '_9zzw']/span\")\n",
    "            driver.execute_script(\"arguments[0].click();\", like_button)\n",
    "    \n",
    "            like_tag=driver.find_element_by_xpath(\"//div[@class = '_9zzv']/span\")\n",
    "            like_data=like_tag.get_attribute('innerHTML')\n",
    "            no_likes=int(like_data.replace(\",\",\"\"))\n",
    "        \n",
    "            total_likes+=int(no_likes)\n",
    "            driver.find_element_by_xpath(\"//div[@class = '_9zzs']\").click()\n",
    "\n",
    "        count+=1\n",
    "        if count>9:\n",
    "            break\n",
    "        next_button=driver.find_element_by_xpath(\"//div[@class = ' _a1bt _a2jd']/button\")\n",
    "        next_button.click()\n",
    "        driver.implicitly_wait(15) \n",
    "    user_posts[name]=posts\n",
    "    user_hashtags[name]=hashtags\n",
    "    user_likes[name]=total_likes\n",
    "    driver.back()\n",
    "    \n",
    "for name in top_names:\n",
    "    store_posts(name)"
   ]
  },
  {
   "cell_type": "code",
   "execution_count": 120,
   "metadata": {},
   "outputs": [
    {
     "data": {
      "text/plain": [
       "{'foodgod': 190713,\n",
       " 'yourfoodlab': 47128,\n",
       " 'foodfusionpk': 8544,\n",
       " 'foodie_incarnate': 206710,\n",
       " 'foodhunter_sabu': 231969}"
      ]
     },
     "execution_count": 120,
     "metadata": {},
     "output_type": "execute_result"
    }
   ],
   "source": [
    "user_likes"
   ]
  },
  {
   "cell_type": "code",
   "execution_count": null,
   "metadata": {
    "scrolled": false
   },
   "outputs": [],
   "source": [
    "print(user_posts)\n",
    "print(user_hashtags)"
   ]
  },
  {
   "cell_type": "code",
   "execution_count": 45,
   "metadata": {},
   "outputs": [],
   "source": [
    "word_freq={}\n",
    "for user in user_hashtags:\n",
    "    words=user_hashtags[user]\n",
    "    for word in words:\n",
    "        if word[0]!='@':\n",
    "            word_freq[word]=word_freq.get(word,0)+1"
   ]
  },
  {
   "cell_type": "code",
   "execution_count": 49,
   "metadata": {},
   "outputs": [],
   "source": [
    "df=pd.DataFrame()\n",
    "words = [i for i in word_freq.keys()]\n",
    "frequencies = [i for i in word_freq.values()]\n",
    "df['Words']=words\n",
    "df['Frequencies']=frequencies\n",
    "\n",
    "df.to_csv('Word_Frequencies')"
   ]
  },
  {
   "cell_type": "code",
   "execution_count": 53,
   "metadata": {},
   "outputs": [],
   "source": [
    "new=np.array(words)"
   ]
  },
  {
   "cell_type": "code",
   "execution_count": 54,
   "metadata": {},
   "outputs": [
    {
     "data": {
      "text/plain": [
       "array(['#kardashians', '#nationaltaterday', '#Foodgod', '#FoodgodReacts',\n",
       "       '#FoodReviews', '#CrazyFood', '#Food', '#foodhack', '#spicymayo',\n",
       "       '#sushi', '#food', '#babycornchilli', '#yourfoodlab',\n",
       "       '#sanjyotkeer', '#foodporn', '#recipe', '#weeklyrewind', '#mutton',\n",
       "       '#pasta', '#recipeoftheday', '#indiancuisine', '#foodie',\n",
       "       '#jaljeera', '#yflapron', '#MuttonRecipes', '#YFL', '#SanjyotKeer',\n",
       "       '#YFLrecipes', '#Instafoodie', '#jaljeerasoda', '#beattheheat',\n",
       "       '#refreshing', '#recipes', '#indianfood', '#pastarecipe', '#promo',\n",
       "       '#italianfood', '#oregano', '#oreganoseasoning', '#streetfood',\n",
       "       '#video', '#reelitfeelit', '#reelsinstagram', '#insta',\n",
       "       '#instagram', '#veglollipop', '#rewind', '#foodpics',\n",
       "       '#sabudanavada', '#oodles', '#delicious', '#instafood',\n",
       "       '#pavbhaji', '#jainrecipe', '#sandwich', '#sandwichesofinstagram',\n",
       "       '#reel', '#reelfood', '#foodreels', '#sandwichrecipe',\n",
       "       '#sandwichporn', '#chesse', '#cheesy', '#chessechillitoast',\n",
       "       '#oodlesofdoodles', '#indiancusine', '#streetfoodindia',\n",
       "       '#foodphotography', '#recipevideo', '#snack', '#snacktime',\n",
       "       '#HappyCookingToYou', '#FoodFusion', '#SummerDrinks', '#InstaFood',\n",
       "       '#Foodstagram', '#Foodfusion', '#HealthyFusion', '#Foodie',\n",
       "       '#Cooking', '#DesiFood', '#InstaFoodie', '#FoodPhotography',\n",
       "       '#Recipe', '#foodgram', '#foodblogger', '#recipevideos',\n",
       "       '#quickrecipes', '#summerDrinks', '#pakistani',\n",
       "       '#HappyCookingToyou', '#foodfusion', '#araywahh', '#desifood',\n",
       "       '#snacks', '#pocketsnack', '#musttry', '#homemade',\n",
       "       '#foodinspiration', '#foodstagram', '#samosarecipe',\n",
       "       '#foodfusionrecipe', '#makeandfreeze', '#daal', '#samosa',\n",
       "       '#feastagram', '#happycookingtoyou', '#foodfusionpk',\n",
       "       '#parsimuttonkababs', '#kabab', '#kababs', '#kebab',\n",
       "       '#muttonrecipes', '#meatlover', '#iftar', '#ftari',\n",
       "       '#iftarrecipes', '#iftarideas', '#ramzanmubarak', '#ramzan',\n",
       "       '#ramadan', '#meatrecipes', '#parsicusine', '#easyrecipes',\n",
       "       '#lobiamasala', '#ramazanRecipes', '#kidneybeans',\n",
       "       '#mintmargarita', '#lemonade', '#lemonsquash', '#citrusdrink',\n",
       "       '#mintdrink', '#cubandrinks', '#greenisgood', '#cooldrinks',\n",
       "       '#cooldrink', '#drink', '#drinkstagram', '#summerdrinks',\n",
       "       '#ramzanrecipes', '#weekendvibes', '#fancydrinks',\n",
       "       '#homemadedrinks', '#ramadan2022', '#muttonkabsa', '#kabsa',\n",
       "       '#rice', '#mandi', '#muttonrice', '#ricerecipes', '#ricelover',\n",
       "       '#kabsarice', '#kabsarecipe', '#tandoori', '#bakedintandoor',\n",
       "       '#arabicfood', '#middleeasterncuisine', '#ricewithmeat',\n",
       "       '#makeathome', '#tendermeat', '#meatsweats', '#7up',\n",
       "       '#SummerDrink', '#RefreshingDrink', '#imlialoobukhara',\n",
       "       '#desisoda', '#cravings', '#foodies', '#foodlovers',\n",
       "       '#foodstyling', '#foodoftheday', '#yummy', '#chicken', '#buns',\n",
       "       '#chickenbuns', '#baking', '#instantkheer', '#instantkheermix',\n",
       "       '#kheerecipe', '#kheermix', '#meetha', '#desidessert',\n",
       "       '#somethingsweet', '#pakistanifood', '#sweettooth',\n",
       "       '#pakistanifusion', '#royalfood', '#foodcoma', '#eiduladha',\n",
       "       '#eidspecial', '#quickfood', '#kheerrecipe', '#sweetdish',\n",
       "       '#foodieincarnate', '#reelkarofeelkaro', '#reels', '#chai',\n",
       "       '#chailover', '#tea', '#assam', '#viralfood', '#viralvideos',\n",
       "       '#explore', '#sodelhi', '#newdelhi', '#foodtalkindia',\n",
       "       '#delhigram', '#delhifoodblogger', '#foodgasm', '#foodpornshare',\n",
       "       '#foodlover', '#foodiesofinstagram', '#indianstreetfood',\n",
       "       '#delhistreetfood', '#mumbaistreetfood', '#delhifoodie',\n",
       "       '#indianfoodie', '#desikhana', '#indianfoodblogger',\n",
       "       '#indianfoodbloggers', '#delhifood', '#mumbai', '#delhi',\n",
       "       '#vegbiryani', '#biryani', '#mathura', '#lassi',\n",
       "       '#Foodieincarnate', '#Reelitfeelit', '#icecream', '#kulfi',\n",
       "       '#gujarat', '#puchka', '#golgappe', '#panipuri', '#golgappa',\n",
       "       '#gujaratifood', '#ahmedabad', '#kolkata', '#foodmaniacindia',\n",
       "       '#breakfastgoals', '#bangalorefoodies', '#gurugram',\n",
       "       '#southindianfood', '#spicyfood', '#bangalorefood', '#gulabjal',\n",
       "       '#TasteOfUP', '#CuisineOfUttarPraseh', '#SwaadUPKa',\n",
       "       '#TasteOfIndia', '#DilSeMakahani', '#McDonaldsInIndia', '#AD',\n",
       "       '#paneer', '#amarsirohi', '#paratha', '#mithai', '#ghewar',\n",
       "       '#tastynibbles', '#tunafish', '#fishlovers', '#quickbites',\n",
       "       '#easysnacks', '#fish', '#travellerslife', '#riderslife',\n",
       "       '#mallugram', '#malayali_vibes', '#foodvideos', '#foodhunter_sabu',\n",
       "       '#trivandrum', '#techie', '#techaddict', '#macbookpro', '#apple',\n",
       "       '#applelover', '#oxygenthedigitalexpert', '#videoediting',\n",
       "       '#videoproduction', '#explorefood', '#keralagodsowncountry',\n",
       "       '#kochi', '#edappally', '#ernakulam', '#yammy', '#tasty',\n",
       "       '#bentalnokhetharestaurant', '#Bentalnokhetharestaurant',\n",
       "       '#kerala', '#travellove', '#travelling', '#malappuram',\n",
       "       '#travelblogger', '#foodvlogger', '#keralafood', '#teastall',\n",
       "       '#porotta', '#porottabeef', '#beefcurry', '#discoverindia',\n",
       "       '#biketrip', '#bikeride', '#riderlife', '#indianarmy',\n",
       "       '#indiaclicks', '#foodieforlife', '#indiantourism', '#chele',\n",
       "       '#foodiesofinsta', '#hotbeverage', '#tamilnadu', '#badammilk',\n",
       "       '#travellerspursuit', '#reelslovers', '#coimbatore', '#kovai',\n",
       "       '#keralagram', '#traveleats', '#malayalis', '#foodhunting',\n",
       "       '#trivandrumdiaries', '#thiruvananthapuram', '#kovalam', '#beef',\n",
       "       '#travellerlife', '#exploreindia', '#ridersbook',\n",
       "       '#keralaphotography', '#foodblog', '#malayali', '#malayalamstatus',\n",
       "       '#instafoods', '#reelsindia', '#foodhuntwithsabu', '#mattanchery',\n",
       "       '#fortkochi', '#kochivibes', '#malayalam', '#malayalamsongs',\n",
       "       '#malayalammovie', '#sitharakrishnakumar', '#travellingindia',\n",
       "       '#explorekerala', '#foodlove', '#malappuramkaar', '#malabar',\n",
       "       '#keralavibes', '#keralatalents', '#drinks', '#cocktails',\n",
       "       '#explorer', '#indian', '#traveller', '#travellersofindia',\n",
       "       '#waterfall', '#sunset', '#sunsetphotography', '#keralatourism',\n",
       "       '#thrissur'], dtype='<U25')"
      ]
     },
     "execution_count": 54,
     "metadata": {},
     "output_type": "execute_result"
    }
   ],
   "source": [
    "new"
   ]
  },
  {
   "cell_type": "code",
   "execution_count": 55,
   "metadata": {},
   "outputs": [],
   "source": [
    "word_freq = dict(sorted(word_freq.items(), key=lambda item: item[1],reverse=True)[:5])"
   ]
  },
  {
   "cell_type": "code",
   "execution_count": 66,
   "metadata": {},
   "outputs": [
    {
     "name": "stdout",
     "output_type": "stream",
     "text": [
      "{'#foodporn': 13, '#foodie': 13, '#streetfood': 10, '#recipevideo': 10, '#foodieincarnate': 9}\n"
     ]
    }
   ],
   "source": [
    "print(word_freq)\n",
    "words=[i for i in word_freq.keys()]\n",
    "freq=[i for i in word_freq.values()]\n"
   ]
  },
  {
   "cell_type": "code",
   "execution_count": 72,
   "metadata": {},
   "outputs": [
    {
     "data": {
      "image/png": "[encoded data removed]",
      "text/plain": [
       "<matplotlib.figure.Figure at 0x7f71cc08c7f0>"
      ]
     },
     "metadata": {},
     "output_type": "display_data"
    }
   ],
   "source": [
    "plt.pie(freq,labels=words,autopct=\"%.2f\")\n",
    "# plt.figure(figsize=(20,20))\n",
    "plt.show()"
   ]
  },
  {
   "cell_type": "code",
   "execution_count": 122,
   "metadata": {},
   "outputs": [
    {
     "data": {
      "text/plain": [
       "{'foodgod': 469023,\n",
       " 'yourfoodlab': 200273,\n",
       " 'foodfusionpk': 29322,\n",
       " 'foodie_incarnate': 341150,\n",
       " 'foodhunter_sabu': 421214}"
      ]
     },
     "execution_count": 122,
     "metadata": {},
     "output_type": "execute_result"
    }
   ],
   "source": [
    "user_likes"
   ]
  },
  {
   "cell_type": "code",
   "execution_count": 124,
   "metadata": {},
   "outputs": [
    {
     "data": {
      "text/plain": [
       "{'foodgod': 3793035,\n",
       " 'yourfoodlab': 1959461,\n",
       " 'foodfusionpk': 1725340,\n",
       " 'foodie_incarnate': 1295942,\n",
       " 'foodhunter_sabu': 445045}"
      ]
     },
     "execution_count": 124,
     "metadata": {},
     "output_type": "execute_result"
    }
   ],
   "source": [
    "top_names"
   ]
  },
  {
   "cell_type": "code",
   "execution_count": 125,
   "metadata": {},
   "outputs": [],
   "source": [
    "avg_likes=[]\n",
    "\n",
    "for name in top_names:\n",
    "    avg=user_likes[name]/10\n",
    "    avg_likes.append(avg)"
   ]
  },
  {
   "cell_type": "code",
   "execution_count": 126,
   "metadata": {},
   "outputs": [
    {
     "data": {
      "text/plain": [
       "[46902.3, 20027.3, 2932.2, 34115.0, 42121.4]"
      ]
     },
     "execution_count": 126,
     "metadata": {},
     "output_type": "execute_result"
    }
   ],
   "source": [
    "avg_likes"
   ]
  },
  {
   "cell_type": "code",
   "execution_count": 131,
   "metadata": {},
   "outputs": [
    {
     "name": "stdout",
     "output_type": "stream",
     "text": [
      "[80.87098074081655, 97.83949908375068, 588.4114316895165, 37.98745419903268, 10.565769418870218]\n"
     ]
    }
   ],
   "source": [
    "avg_followers=[]\n",
    "\n",
    "i=0\n",
    "for name in top_names:\n",
    "    avg=top_names[name]/avg_likes[i]\n",
    "    avg_followers.append(avg)\n",
    "    i+=1\n",
    "print(avg_followers)"
   ]
  },
  {
   "cell_type": "code",
   "execution_count": 134,
   "metadata": {},
   "outputs": [],
   "source": [
    "user_list=[i for i in top_names]"
   ]
  },
  {
   "cell_type": "code",
   "execution_count": 141,
   "metadata": {},
   "outputs": [
    {
     "data": {
      "image/png": "[encoded data removed]",
      "text/plain": [
       "<matplotlib.figure.Figure at 0x7f71cc134438>"
      ]
     },
     "metadata": {
      "needs_background": "light"
     },
     "output_type": "display_data"
    }
   ],
   "source": [
    "plt.bar(user_list,avg_followers)\n",
    "plt.title('Average Followers')\n",
    "plt.xticks(rotation=90)\n",
    "plt.grid()\n",
    "plt.show()\n",
    "\n"
   ]
  },
  {
   "cell_type": "code",
   "execution_count": 140,
   "metadata": {},
   "outputs": [
    {
     "data": {
      "image/png": "[encoded data removed]",
      "text/plain": [
       "<matplotlib.figure.Figure at 0x7f71ca42a668>"
      ]
     },
     "metadata": {
      "needs_background": "light"
     },
     "output_type": "display_data"
    }
   ],
   "source": [
    "plt.bar(user_list,avg_likes)\n",
    "plt.title('Average Likes')\n",
    "plt.xticks(rotation=90)\n",
    "plt.grid()\n",
    "plt.show()\n"
   ]
  },
  {
   "cell_type": "code",
   "execution_count": null,
   "metadata": {},
   "outputs": [],
   "source": []
  }
 ],
 "metadata": {
  "kernelspec": {
   "display_name": "Python 3",
   "language": "python",
   "name": "python3"
  },
  "language_info": {
   "codemirror_mode": {
    "name": "ipython",
    "version": 3
   },
   "file_extension": ".py",
   "mimetype": "text/x-python",
   "name": "python",
   "nbconvert_exporter": "python",
   "pygments_lexer": "ipython3",
   "version": "3.6.9"
  }
 },
 "nbformat": 4,
 "nbformat_minor": 4
}
